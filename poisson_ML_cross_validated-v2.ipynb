{
 "cells": [
  {
   "cell_type": "code",
   "execution_count": 5,
   "metadata": {},
   "outputs": [],
   "source": [
    "#paper:Energy, Quanta and vision, 1942\n",
    "\n",
    "from scipy.stats import poisson\n",
    "import matplotlib.pyplot as plt\n",
    "import seaborn as sns\n",
    "import os"
   ]
  },
  {
   "cell_type": "code",
   "execution_count": 6,
   "metadata": {},
   "outputs": [
    {
     "name": "stdout",
     "output_type": "stream",
     "text": [
      "Can not delete the file as it doesn't exists\n"
     ]
    }
   ],
   "source": [
    "filePath = 'poisson.csv';\n",
    "# As file at filePath is deleted now, so we should check if file exists or not not before deleting them\n",
    "if os.path.exists(filePath):\n",
    "    os.remove(filePath)\n",
    "else:\n",
    "    print(\"Can not delete the file as it doesn't exists\")    "
   ]
  },
  {
   "cell_type": "code",
   "execution_count": 7,
   "metadata": {},
   "outputs": [],
   "source": [
    "import numpy as np \n",
    "import pandas as pd"
   ]
  },
  {
   "cell_type": "code",
   "execution_count": 15,
   "metadata": {},
   "outputs": [],
   "source": [
    "# data preparation \n",
    "\n",
    "def prep_data(nave,nthres,nsamples,seed=0x00c0ffee):\n",
    "    rs = np.random.RandomState(seed)\n",
    "    data = poisson.rvs(nave, size=nsamples, random_state=rs)\n",
    "    return data"
   ]
  },
  {
   "cell_type": "code",
   "execution_count": 18,
   "metadata": {},
   "outputs": [],
   "source": [
    "# Data preperation & Modelling\n",
    "\n",
    "nave     = 3    # mean number on cornea [n1, n2, n3, ...] number of shots\n",
    "nthres   = 8    # threshold number of photons \n",
    "nsamples = 2000 # sample size  \n",
    "\n",
    "data = prep_data(nave,nthres,nsamples,seed=0x00c0ffee)"
   ]
  },
  {
   "cell_type": "code",
   "execution_count": 22,
   "metadata": {},
   "outputs": [
    {
     "data": {
      "text/plain": [
       "array([False, False, False, ..., False, False, False])"
      ]
     },
     "execution_count": 22,
     "metadata": {},
     "output_type": "execute_result"
    }
   ],
   "source": [
    "# check for signal\n",
    "data>nthres"
   ]
  },
  {
   "cell_type": "code",
   "execution_count": null,
   "metadata": {},
   "outputs": [],
   "source": []
  },
  {
   "cell_type": "code",
   "execution_count": 23,
   "metadata": {},
   "outputs": [
    {
     "name": "stderr",
     "output_type": "stream",
     "text": [
      "/home/subasi/miniconda3/envs/nur/lib/python3.9/site-packages/seaborn/distributions.py:2557: FutureWarning: `distplot` is a deprecated function and will be removed in a future version. Please adapt your code to use either `displot` (a figure-level function with similar flexibility) or `histplot` (an axes-level function for histograms).\n",
      "  warnings.warn(msg, FutureWarning)\n"
     ]
    },
    {
     "data": {
      "image/png": "[encoded data removed]",
      "text/plain": [
       "<Figure size 432x288 with 1 Axes>"
      ]
     },
     "metadata": {
      "needs_background": "light"
     },
     "output_type": "display_data"
    }
   ],
   "source": [
    "# Data preperation & Modelling\n",
    "\n",
    "nbars = range(2, 96, 1) # mean number on cornea [n1, n2, n3, ...] number of shots\n",
    "nth = 7;                  # threshold number of photons \n",
    "nsegment=2000              # size of the distribution \n",
    "\n",
    "class_array = np.zeros(shape=nsegment)\n",
    "nbar_array = np.ones(shape=nsegment)\n",
    "var_array = list()\n",
    "\n",
    "#Data preperation\n",
    "\n",
    "seed = 0x00c0ffee\n",
    "rs = np.random.RandomState(seed)\n",
    "\n",
    "for nbar in nbars: \n",
    "    data_binom = poisson.rvs(nbar, size=nsegment, random_state=rs)\n",
    "    i=0\n",
    "    for ni in data_binom:\n",
    "        if ni>=nth:\n",
    "            class_array[i] = 1 #yes\n",
    "        else:\n",
    "            class_array[i] = 0 #no\n",
    "        i+=1\n",
    "    var_array.append(poisson.var(nbar, loc = 0))  #variance of the distribution   \n",
    "    \n",
    "  #convert the signal into tabular DataFrame\n",
    "    ni_df = pd.DataFrame(data_binom)\n",
    "    class_df =  pd.DataFrame(class_array)\n",
    "    nbar_df =pd.DataFrame(nbar*nbar_array)\n",
    "    data_df = [ni_df, nbar_df]\n",
    "    data_df = pd.concat(data_df, axis=1)\n",
    "    data_df =pd.concat([data_df, class_df], axis = 1)\n",
    "    \n",
    "    data_df.to_csv('poisson.csv', mode='a', header=False)  #write data to file\n",
    "\n",
    "#Visualize the last poisson distribution    \n",
    "ax = sns.distplot(data_binom,\n",
    "                  kde=True,\n",
    "                  color='green',\n",
    "                  hist_kws={\"linewidth\": 15,'alpha':1})\n",
    "ax.set(xlabel='Poisson', ylabel='Frequency')\n",
    "\n",
    "\n",
    "data_pssn = pd.read_csv(\"poisson.csv\")           #read distribution from data\n",
    "data_pssn.columns = [\"i\", \"ni\", \"nbar\", \"see\"]   #convert dataframe i: segment number, ni: photon number, see: 0 or 1\n",
    "\n",
    "X = data_pssn[[\"nbar\", \"ni\"]]                    #features\n",
    "y = data_pssn.see                                #label-target\n",
    "\n",
    "\n",
    "variance = np.mean(var_array)"
   ]
  },
  {
   "cell_type": "code",
   "execution_count": 24,
   "metadata": {},
   "outputs": [],
   "source": [
    "from sklearn.model_selection import cross_val_predict, cross_val_score\n",
    "from sklearn.linear_model import LogisticRegression\n",
    "from sklearn import metrics"
   ]
  },
  {
   "cell_type": "code",
   "execution_count": 25,
   "metadata": {},
   "outputs": [
    {
     "data": {
      "image/png": "[encoded data removed]",
      "text/plain": [
       "<Figure size 432x288 with 1 Axes>"
      ]
     },
     "metadata": {
      "needs_background": "light"
     },
     "output_type": "display_data"
    }
   ],
   "source": [
    "#cross-validated Logistic Regression model predictions\n",
    "predicted = cross_val_predict(LogisticRegression(solver = \"liblinear\"), X, y, cv=10)\n",
    "\n",
    "predicted = pd.DataFrame(predicted)   \n",
    "\n",
    "\n",
    "#Data Frame Transformations made on predicted values\n",
    "\n",
    "dfp = pd.concat([X, predicted], axis =1)\n",
    "dfp.columns = [\"nbar\", \"ni\", \"see\"]\n",
    "\n",
    "dfp = dfp[dfp[\"see\"] ==1]   # select yes cases\n",
    "\n",
    "dfp = dfp.groupby(\"nbar\")[\"see\"].value_counts()\n",
    "\n",
    "\n",
    "dfp.to_csv('nbar_vs_percentage_predicted.csv')     #write data to file\n",
    "\n",
    "#Data Analysis on predicted values\n",
    "datap = pd.read_csv(\"nbar_vs_percentage_predicted.csv\")    #read from data\n",
    "\n",
    "datap = datap.rename(columns ={\"see.1\":\"frequency\"})\n",
    "\n",
    "lognbar_p = np.log(datap[\"nbar\"])\n",
    "\n",
    "pp = datap[\"frequency\"]\n",
    "\n",
    "pp = 100*pp/(nsegment)\n",
    "\n",
    "datap = [lognbar_p, pp]\n",
    "datap = pd.concat(datap, axis =1)\n",
    "datap.to_csv(\"predicted_lognbar_p_nth_\"+str(nth)+\".csv\", index = False)\n",
    "\n",
    "#Data Frame Transformations made on measured values\n",
    "\n",
    "dfm= pd.concat([X, y], axis =1)\n",
    "dfm.columns = [\"nbar\", \"ni\", \"see\"]\n",
    "\n",
    "dfm = dfm[dfm[\"see\"] ==1]   # select yes cases\n",
    "\n",
    "dfm = dfm.groupby(\"nbar\")[\"see\"].value_counts()\n",
    "\n",
    "\n",
    "dfm.to_csv('nbar_vs_percentage_measured.csv')  #write data to file\n",
    "\n",
    "#Data Analysis on measured (real) values\n",
    "\n",
    "datam = pd.read_csv(\"nbar_vs_percentage_measured.csv\")    #read from data\n",
    "\n",
    "datam = datam.rename(columns ={\"see.1\":\"frequency\"})\n",
    "\n",
    "lognbar_m= np.log(datam[\"nbar\"])\n",
    "\n",
    "pm = datam[\"frequency\"]\n",
    "\n",
    "pm = 100*pm/(nsegment)\n",
    "\n",
    "datam = [lognbar_m, pm]\n",
    "datam = pd.concat(datam, axis =1)\n",
    "datam.to_csv(\"measured_lognbar_p_nth_\"+str(nth)+\".csv\", index = False)\n",
    "\n",
    "\n",
    "plt.plot(lognbar_p, pp, \"*\")\n",
    "plt.plot(lognbar_m, pm, \"*\")\n",
    "plt.legend([\"predicted\", \"measured\"])\n",
    "plt.show()"
   ]
  },
  {
   "cell_type": "code",
   "execution_count": 26,
   "metadata": {},
   "outputs": [],
   "source": [
    "from sklearn.model_selection import learning_curve\n",
    "from sklearn.model_selection import cross_val_predict, cross_val_score\n",
    "from sklearn.linear_model import LogisticRegression\n",
    "from sklearn import metrics"
   ]
  },
  {
   "cell_type": "code",
   "execution_count": 27,
   "metadata": {},
   "outputs": [
    {
     "data": {
      "image/png": "[encoded data removed]",
      "text/plain": [
       "<Figure size 432x288 with 1 Axes>"
      ]
     },
     "metadata": {
      "needs_background": "light"
     },
     "output_type": "display_data"
    }
   ],
   "source": [
    "#Learning Rates \n",
    "\n",
    "train_sizes, train_scores, test_scores = learning_curve(LogisticRegression(solver=\"liblinear\"), X, y, cv=10, shuffle = True, \n",
    "                                                        scoring = \"accuracy\", train_sizes=np.linspace(0.1, 1.0, 10))\n",
    "\n",
    "#mean scores of train and test accuracies\n",
    "train_mean = np.mean(train_scores, axis=1)\n",
    "test_mean = np.mean(test_scores, axis=1)\n",
    "\n",
    "\n",
    "# Draw lines\n",
    "plt.plot(train_sizes, train_mean, '--',  label=\"Training score\")\n",
    "plt.plot(train_sizes, test_mean, label=\"Cross-validation score\")\n",
    "\n",
    "# Create plot\n",
    "plt.title(\"Learning Curve\")\n",
    "plt.xlabel(\"Training Set Size\"), plt.ylabel(\"Accuracy Score\"), plt.legend(loc=\"best\")\n",
    "plt.tight_layout()\n",
    "plt.show()"
   ]
  },
  {
   "cell_type": "code",
   "execution_count": 28,
   "metadata": {},
   "outputs": [
    {
     "name": "stdout",
     "output_type": "stream",
     "text": [
      "[0.996111719521316, 0.9927686170212766, 48.5]\n"
     ]
    }
   ],
   "source": [
    "#Learning Rates \n",
    "\n",
    "from sklearn.model_selection import learning_curve\n",
    "from sklearn.model_selection import cross_val_predict, cross_val_score\n",
    "from sklearn.linear_model import LogisticRegression\n",
    "from sklearn import metrics\n",
    "\n",
    "import csv\n",
    "from csv import writer\n",
    "\n",
    "f1_scores = cross_val_score(LogisticRegression(solver=\"liblinear\"), X, y, cv=5, scoring = \"f1\") \n",
    "\n",
    "test_scores = cross_val_score(LogisticRegression(solver=\"liblinear\"), X, y, cv=5, scoring = \"accuracy\") \n",
    "\n",
    "\n",
    "learning = [np.mean(f1_scores), np.mean(test_scores), variance ]\n",
    "\n",
    "print(learning)\n",
    "\n",
    "with open(\"learning_nth_\"+str(nth)+\".csv\", mode = \"a\") as f:\n",
    "    writer_object = writer(f)\n",
    "    writer_object.writerow(learning)"
   ]
  },
  {
   "cell_type": "code",
   "execution_count": null,
   "metadata": {},
   "outputs": [],
   "source": []
  }
 ],
 "metadata": {
  "kernelspec": {
   "display_name": "Python 3",
   "language": "python",
   "name": "python3"
  },
  "language_info": {
   "codemirror_mode": {
    "name": "ipython",
    "version": 3
   },
   "file_extension": ".py",
   "mimetype": "text/x-python",
   "name": "python",
   "nbconvert_exporter": "python",
   "pygments_lexer": "ipython3",
   "version": "3.8.3"
  }
 },
 "nbformat": 4,
 "nbformat_minor": 4
}
